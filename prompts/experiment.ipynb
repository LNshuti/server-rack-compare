{
 "cells": [
  {
   "cell_type": "code",
   "execution_count": null,
   "metadata": {},
   "outputs": [],
   "source": [
    "!pip install prompttools"
   ]
  },
  {
   "cell_type": "code",
   "execution_count": null,
   "metadata": {},
   "outputs": [],
   "source": [
    "from prompttools.experiment import OpenAIChatExperiment\n",
    "\n",
    "messages = [\n",
    "    [{\"role\": \"user\", \"content\": \"Tell me a joke.\"},],\n",
    "    [{\"role\": \"user\", \"content\": \"Is 17077 a prime number?\"},],\n",
    "]\n",
    "\n",
    "models = [\"gpt-3.5-turbo\", \"gpt-4\"]\n",
    "temperatures = [0.0]\n",
    "openai_experiment = OpenAIChatExperiment(models, messages, temperature=temperatures)\n",
    "openai_experiment.run()\n",
    "openai_experiment.visualize()"
   ]
  }
 ],
 "metadata": {
  "language_info": {
   "name": "python"
  }
 },
 "nbformat": 4,
 "nbformat_minor": 2
}
